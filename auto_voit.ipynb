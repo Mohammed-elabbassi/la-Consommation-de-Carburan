{
 "cells": [
  {
   "cell_type": "code",
   "execution_count": null,
   "id": "8c27cf31",
   "metadata": {},
   "outputs": [
    {
     "name": "stderr",
     "output_type": "stream",
     "text": [
      "C:\\Users\\medel\\AppData\\Local\\Temp\\ipykernel_13736\\1182191353.py:14: FutureWarning: The 'delim_whitespace' keyword in pd.read_csv is deprecated and will be removed in a future version. Use ``sep='\\s+'`` instead\n",
      "  df = pd.read_csv(\"auto-mpg.data\", delim_whitespace=True, names=columns, na_values='?')\n"
     ]
    },
    {
     "name": "stdout",
     "output_type": "stream",
     "text": [
      "✅ Modèle sauvegardé avec succès : model.pkl\n"
     ]
    }
   ],
   "source": [
    "import pandas as pd\n",
    "import numpy as np\n",
    "from sklearn.model_selection import train_test_split\n",
    "from sklearn.preprocessing import StandardScaler\n",
    "from sklearn.neural_network import MLPRegressor\n",
    "import pickle\n",
    "\n",
    "# Charger les données\n",
    "columns = [\n",
    "    \"mpg\", \"cylinders\", \"displacement\", \"horsepower\",\n",
    "    \"weight\", \"acceleration\", \"model_year\", \"origin\", \"car_name\"\n",
    "]\n",
    "\n",
    "df = pd.read_csv(\"auto-mpg.data\", delim_whitespace=True, names=columns, na_values='?')\n",
    "df = df.dropna().drop(columns=['car_name'])\n",
    "\n",
    "X = df.drop(columns=['mpg'])\n",
    "y = df['mpg']\n",
    "\n",
    "# Préparation\n",
    "scaler = StandardScaler()\n",
    "X_scaled = scaler.fit_transform(X)\n",
    "\n",
    "# Modèle Deep Neural Network\n",
    "model = MLPRegressor(\n",
    "    hidden_layer_sizes=(256,128,64,32),\n",
    "    activation='relu',\n",
    "    solver='adam',\n",
    "    max_iter=2000,\n",
    "    random_state=42\n",
    ")\n",
    "model.fit(X_scaled, y)\n",
    "\n",
    "# Sauvegarde du modèle et du scaler\n",
    "with open(\"model.pkl\", \"wb\") as f:\n",
    "    pickle.dump((model, scaler), f)\n",
    "\n",
    "print(\" Modèle sauvegardé avec succès : model.pkl\")\n"
   ]
  },
  {
   "cell_type": "code",
   "execution_count": null,
   "id": "fabd8f50",
   "metadata": {},
   "outputs": [],
   "source": []
  }
 ],
 "metadata": {
  "kernelspec": {
   "display_name": ".venv",
   "language": "python",
   "name": "python3"
  },
  "language_info": {
   "codemirror_mode": {
    "name": "ipython",
    "version": 3
   },
   "file_extension": ".py",
   "mimetype": "text/x-python",
   "name": "python",
   "nbconvert_exporter": "python",
   "pygments_lexer": "ipython3",
   "version": "3.11.0"
  }
 },
 "nbformat": 4,
 "nbformat_minor": 5
}
